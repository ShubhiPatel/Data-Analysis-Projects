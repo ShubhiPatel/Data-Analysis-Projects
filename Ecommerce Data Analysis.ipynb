{
 "cells": [
  {
   "cell_type": "code",
   "execution_count": 2,
   "id": "8d70f664-8f0b-4cad-83e4-6eb92cf26864",
   "metadata": {},
   "outputs": [],
   "source": [
    "import numpy as np\n",
    "import pandas as pd\n",
    "import matplotlib.pyplot as plt\n",
    "import seaborn as sns"
   ]
  },
  {
   "cell_type": "code",
   "execution_count": 3,
   "id": "172dc330-93b6-4614-9310-df5d9c96ba47",
   "metadata": {},
   "outputs": [],
   "source": [
    "df = pd.read_excel(\"Superstore_USA.xlsx\")"
   ]
  },
  {
   "cell_type": "code",
   "execution_count": 4,
   "id": "2f2d1b46-827f-4e5e-9b91-7a5629f7f2cf",
   "metadata": {},
   "outputs": [
    {
     "data": {
      "text/html": [
       "<div>\n",
       "<style scoped>\n",
       "    .dataframe tbody tr th:only-of-type {\n",
       "        vertical-align: middle;\n",
       "    }\n",
       "\n",
       "    .dataframe tbody tr th {\n",
       "        vertical-align: top;\n",
       "    }\n",
       "\n",
       "    .dataframe thead th {\n",
       "        text-align: right;\n",
       "    }\n",
       "</style>\n",
       "<table border=\"1\" class=\"dataframe\">\n",
       "  <thead>\n",
       "    <tr style=\"text-align: right;\">\n",
       "      <th></th>\n",
       "      <th>Unnamed: 0</th>\n",
       "      <th>Row ID</th>\n",
       "      <th>Order Priority</th>\n",
       "      <th>Discount</th>\n",
       "      <th>Unit Price</th>\n",
       "      <th>Shipping Cost</th>\n",
       "      <th>Customer ID</th>\n",
       "      <th>Customer Name</th>\n",
       "      <th>Ship Mode</th>\n",
       "      <th>Customer Segment</th>\n",
       "      <th>...</th>\n",
       "      <th>Region</th>\n",
       "      <th>State or Province</th>\n",
       "      <th>City</th>\n",
       "      <th>Postal Code</th>\n",
       "      <th>Order Date</th>\n",
       "      <th>Ship Date</th>\n",
       "      <th>Profit</th>\n",
       "      <th>Quantity ordered new</th>\n",
       "      <th>Sales</th>\n",
       "      <th>Order ID</th>\n",
       "    </tr>\n",
       "  </thead>\n",
       "  <tbody>\n",
       "    <tr>\n",
       "      <th>0</th>\n",
       "      <td>0</td>\n",
       "      <td>18606</td>\n",
       "      <td>Not Specified</td>\n",
       "      <td>0.01</td>\n",
       "      <td>2.88</td>\n",
       "      <td>0.50</td>\n",
       "      <td>2</td>\n",
       "      <td>Janice Fletcher</td>\n",
       "      <td>Regular Air</td>\n",
       "      <td>Corporate</td>\n",
       "      <td>...</td>\n",
       "      <td>Central</td>\n",
       "      <td>Illinois</td>\n",
       "      <td>Addison</td>\n",
       "      <td>60101</td>\n",
       "      <td>2012-05-28</td>\n",
       "      <td>2012-05-30</td>\n",
       "      <td>1.320000</td>\n",
       "      <td>2</td>\n",
       "      <td>5.90</td>\n",
       "      <td>88525</td>\n",
       "    </tr>\n",
       "    <tr>\n",
       "      <th>1</th>\n",
       "      <td>1</td>\n",
       "      <td>20847</td>\n",
       "      <td>High</td>\n",
       "      <td>0.01</td>\n",
       "      <td>2.84</td>\n",
       "      <td>0.93</td>\n",
       "      <td>3</td>\n",
       "      <td>Bonnie Potter</td>\n",
       "      <td>Express Air</td>\n",
       "      <td>Corporate</td>\n",
       "      <td>...</td>\n",
       "      <td>West</td>\n",
       "      <td>Washington</td>\n",
       "      <td>Anacortes</td>\n",
       "      <td>98221</td>\n",
       "      <td>2010-07-07</td>\n",
       "      <td>2010-07-08</td>\n",
       "      <td>4.560000</td>\n",
       "      <td>4</td>\n",
       "      <td>13.01</td>\n",
       "      <td>88522</td>\n",
       "    </tr>\n",
       "    <tr>\n",
       "      <th>2</th>\n",
       "      <td>2</td>\n",
       "      <td>23086</td>\n",
       "      <td>Not Specified</td>\n",
       "      <td>0.03</td>\n",
       "      <td>6.68</td>\n",
       "      <td>6.15</td>\n",
       "      <td>3</td>\n",
       "      <td>Bonnie Potter</td>\n",
       "      <td>Express Air</td>\n",
       "      <td>Corporate</td>\n",
       "      <td>...</td>\n",
       "      <td>West</td>\n",
       "      <td>Washington</td>\n",
       "      <td>Anacortes</td>\n",
       "      <td>98221</td>\n",
       "      <td>2011-07-27</td>\n",
       "      <td>2011-07-28</td>\n",
       "      <td>-47.640000</td>\n",
       "      <td>7</td>\n",
       "      <td>49.92</td>\n",
       "      <td>88523</td>\n",
       "    </tr>\n",
       "    <tr>\n",
       "      <th>3</th>\n",
       "      <td>3</td>\n",
       "      <td>23087</td>\n",
       "      <td>Not Specified</td>\n",
       "      <td>0.01</td>\n",
       "      <td>5.68</td>\n",
       "      <td>3.60</td>\n",
       "      <td>3</td>\n",
       "      <td>Bonnie Potter</td>\n",
       "      <td>Regular Air</td>\n",
       "      <td>Corporate</td>\n",
       "      <td>...</td>\n",
       "      <td>West</td>\n",
       "      <td>Washington</td>\n",
       "      <td>Anacortes</td>\n",
       "      <td>98221</td>\n",
       "      <td>2011-07-27</td>\n",
       "      <td>2011-07-28</td>\n",
       "      <td>-30.510000</td>\n",
       "      <td>7</td>\n",
       "      <td>41.64</td>\n",
       "      <td>88523</td>\n",
       "    </tr>\n",
       "    <tr>\n",
       "      <th>4</th>\n",
       "      <td>4</td>\n",
       "      <td>23088</td>\n",
       "      <td>Not Specified</td>\n",
       "      <td>0.00</td>\n",
       "      <td>205.99</td>\n",
       "      <td>2.50</td>\n",
       "      <td>3</td>\n",
       "      <td>Bonnie Potter</td>\n",
       "      <td>Express Air</td>\n",
       "      <td>Corporate</td>\n",
       "      <td>...</td>\n",
       "      <td>West</td>\n",
       "      <td>Washington</td>\n",
       "      <td>Anacortes</td>\n",
       "      <td>98221</td>\n",
       "      <td>2011-07-27</td>\n",
       "      <td>2011-07-27</td>\n",
       "      <td>998.202300</td>\n",
       "      <td>8</td>\n",
       "      <td>1446.67</td>\n",
       "      <td>88523</td>\n",
       "    </tr>\n",
       "    <tr>\n",
       "      <th>...</th>\n",
       "      <td>...</td>\n",
       "      <td>...</td>\n",
       "      <td>...</td>\n",
       "      <td>...</td>\n",
       "      <td>...</td>\n",
       "      <td>...</td>\n",
       "      <td>...</td>\n",
       "      <td>...</td>\n",
       "      <td>...</td>\n",
       "      <td>...</td>\n",
       "      <td>...</td>\n",
       "      <td>...</td>\n",
       "      <td>...</td>\n",
       "      <td>...</td>\n",
       "      <td>...</td>\n",
       "      <td>...</td>\n",
       "      <td>...</td>\n",
       "      <td>...</td>\n",
       "      <td>...</td>\n",
       "      <td>...</td>\n",
       "      <td>...</td>\n",
       "    </tr>\n",
       "    <tr>\n",
       "      <th>9421</th>\n",
       "      <td>9421</td>\n",
       "      <td>20275</td>\n",
       "      <td>Critical</td>\n",
       "      <td>0.06</td>\n",
       "      <td>35.89</td>\n",
       "      <td>14.72</td>\n",
       "      <td>3402</td>\n",
       "      <td>Frederick Cole</td>\n",
       "      <td>Regular Air</td>\n",
       "      <td>Consumer</td>\n",
       "      <td>...</td>\n",
       "      <td>East</td>\n",
       "      <td>West Virginia</td>\n",
       "      <td>Charleston</td>\n",
       "      <td>25314</td>\n",
       "      <td>2013-05-14</td>\n",
       "      <td>2013-05-15</td>\n",
       "      <td>137.860000</td>\n",
       "      <td>13</td>\n",
       "      <td>447.87</td>\n",
       "      <td>87532</td>\n",
       "    </tr>\n",
       "    <tr>\n",
       "      <th>9422</th>\n",
       "      <td>9422</td>\n",
       "      <td>20276</td>\n",
       "      <td>Critical</td>\n",
       "      <td>0.00</td>\n",
       "      <td>3.34</td>\n",
       "      <td>7.49</td>\n",
       "      <td>3402</td>\n",
       "      <td>Frederick Cole</td>\n",
       "      <td>Regular Air</td>\n",
       "      <td>Consumer</td>\n",
       "      <td>...</td>\n",
       "      <td>East</td>\n",
       "      <td>West Virginia</td>\n",
       "      <td>Charleston</td>\n",
       "      <td>25314</td>\n",
       "      <td>2013-05-14</td>\n",
       "      <td>2013-05-14</td>\n",
       "      <td>-39.070000</td>\n",
       "      <td>3</td>\n",
       "      <td>13.23</td>\n",
       "      <td>87532</td>\n",
       "    </tr>\n",
       "    <tr>\n",
       "      <th>9423</th>\n",
       "      <td>9423</td>\n",
       "      <td>24491</td>\n",
       "      <td>Not Specified</td>\n",
       "      <td>0.08</td>\n",
       "      <td>550.98</td>\n",
       "      <td>45.70</td>\n",
       "      <td>3402</td>\n",
       "      <td>Frederick Cole</td>\n",
       "      <td>Delivery Truck</td>\n",
       "      <td>Consumer</td>\n",
       "      <td>...</td>\n",
       "      <td>East</td>\n",
       "      <td>West Virginia</td>\n",
       "      <td>Charleston</td>\n",
       "      <td>25314</td>\n",
       "      <td>2013-09-12</td>\n",
       "      <td>2013-09-14</td>\n",
       "      <td>-1225.029097</td>\n",
       "      <td>4</td>\n",
       "      <td>2215.93</td>\n",
       "      <td>87533</td>\n",
       "    </tr>\n",
       "    <tr>\n",
       "      <th>9424</th>\n",
       "      <td>9424</td>\n",
       "      <td>25914</td>\n",
       "      <td>High</td>\n",
       "      <td>0.10</td>\n",
       "      <td>105.98</td>\n",
       "      <td>13.99</td>\n",
       "      <td>3403</td>\n",
       "      <td>Tammy Buckley</td>\n",
       "      <td>Express Air</td>\n",
       "      <td>Consumer</td>\n",
       "      <td>...</td>\n",
       "      <td>West</td>\n",
       "      <td>Wyoming</td>\n",
       "      <td>Cheyenne</td>\n",
       "      <td>82001</td>\n",
       "      <td>2010-02-08</td>\n",
       "      <td>2010-02-11</td>\n",
       "      <td>349.485000</td>\n",
       "      <td>5</td>\n",
       "      <td>506.50</td>\n",
       "      <td>87530</td>\n",
       "    </tr>\n",
       "    <tr>\n",
       "      <th>9425</th>\n",
       "      <td>9425</td>\n",
       "      <td>24492</td>\n",
       "      <td>Not Specified</td>\n",
       "      <td>0.09</td>\n",
       "      <td>7.78</td>\n",
       "      <td>2.50</td>\n",
       "      <td>3403</td>\n",
       "      <td>Tammy Buckley</td>\n",
       "      <td>Express Air</td>\n",
       "      <td>Consumer</td>\n",
       "      <td>...</td>\n",
       "      <td>West</td>\n",
       "      <td>Wyoming</td>\n",
       "      <td>Cheyenne</td>\n",
       "      <td>82001</td>\n",
       "      <td>2013-09-12</td>\n",
       "      <td>2013-09-14</td>\n",
       "      <td>78.062400</td>\n",
       "      <td>23</td>\n",
       "      <td>172.48</td>\n",
       "      <td>87533</td>\n",
       "    </tr>\n",
       "  </tbody>\n",
       "</table>\n",
       "<p>9426 rows × 25 columns</p>\n",
       "</div>"
      ],
      "text/plain": [
       "      Unnamed: 0  Row ID Order Priority  Discount  Unit Price  Shipping Cost  \\\n",
       "0              0   18606  Not Specified      0.01        2.88           0.50   \n",
       "1              1   20847           High      0.01        2.84           0.93   \n",
       "2              2   23086  Not Specified      0.03        6.68           6.15   \n",
       "3              3   23087  Not Specified      0.01        5.68           3.60   \n",
       "4              4   23088  Not Specified      0.00      205.99           2.50   \n",
       "...          ...     ...            ...       ...         ...            ...   \n",
       "9421        9421   20275       Critical      0.06       35.89          14.72   \n",
       "9422        9422   20276       Critical      0.00        3.34           7.49   \n",
       "9423        9423   24491  Not Specified      0.08      550.98          45.70   \n",
       "9424        9424   25914           High      0.10      105.98          13.99   \n",
       "9425        9425   24492  Not Specified      0.09        7.78           2.50   \n",
       "\n",
       "      Customer ID    Customer Name       Ship Mode Customer Segment  ...  \\\n",
       "0               2  Janice Fletcher     Regular Air        Corporate  ...   \n",
       "1               3    Bonnie Potter     Express Air        Corporate  ...   \n",
       "2               3    Bonnie Potter     Express Air        Corporate  ...   \n",
       "3               3    Bonnie Potter     Regular Air        Corporate  ...   \n",
       "4               3    Bonnie Potter     Express Air        Corporate  ...   \n",
       "...           ...              ...             ...              ...  ...   \n",
       "9421         3402   Frederick Cole     Regular Air         Consumer  ...   \n",
       "9422         3402   Frederick Cole     Regular Air         Consumer  ...   \n",
       "9423         3402   Frederick Cole  Delivery Truck         Consumer  ...   \n",
       "9424         3403    Tammy Buckley     Express Air         Consumer  ...   \n",
       "9425         3403    Tammy Buckley     Express Air         Consumer  ...   \n",
       "\n",
       "       Region State or Province        City Postal Code  Order Date  \\\n",
       "0     Central          Illinois     Addison       60101  2012-05-28   \n",
       "1        West        Washington   Anacortes       98221  2010-07-07   \n",
       "2        West        Washington   Anacortes       98221  2011-07-27   \n",
       "3        West        Washington   Anacortes       98221  2011-07-27   \n",
       "4        West        Washington   Anacortes       98221  2011-07-27   \n",
       "...       ...               ...         ...         ...         ...   \n",
       "9421     East     West Virginia  Charleston       25314  2013-05-14   \n",
       "9422     East     West Virginia  Charleston       25314  2013-05-14   \n",
       "9423     East     West Virginia  Charleston       25314  2013-09-12   \n",
       "9424     West           Wyoming    Cheyenne       82001  2010-02-08   \n",
       "9425     West           Wyoming    Cheyenne       82001  2013-09-12   \n",
       "\n",
       "      Ship Date       Profit Quantity ordered new    Sales Order ID  \n",
       "0    2012-05-30     1.320000                    2     5.90    88525  \n",
       "1    2010-07-08     4.560000                    4    13.01    88522  \n",
       "2    2011-07-28   -47.640000                    7    49.92    88523  \n",
       "3    2011-07-28   -30.510000                    7    41.64    88523  \n",
       "4    2011-07-27   998.202300                    8  1446.67    88523  \n",
       "...         ...          ...                  ...      ...      ...  \n",
       "9421 2013-05-15   137.860000                   13   447.87    87532  \n",
       "9422 2013-05-14   -39.070000                    3    13.23    87532  \n",
       "9423 2013-09-14 -1225.029097                    4  2215.93    87533  \n",
       "9424 2010-02-11   349.485000                    5   506.50    87530  \n",
       "9425 2013-09-14    78.062400                   23   172.48    87533  \n",
       "\n",
       "[9426 rows x 25 columns]"
      ]
     },
     "execution_count": 4,
     "metadata": {},
     "output_type": "execute_result"
    }
   ],
   "source": [
    "df"
   ]
  },
  {
   "cell_type": "code",
   "execution_count": 5,
   "id": "3bd93966-c561-413b-8904-3b8cd45e4ba2",
   "metadata": {},
   "outputs": [
    {
     "data": {
      "text/html": [
       "<div>\n",
       "<style scoped>\n",
       "    .dataframe tbody tr th:only-of-type {\n",
       "        vertical-align: middle;\n",
       "    }\n",
       "\n",
       "    .dataframe tbody tr th {\n",
       "        vertical-align: top;\n",
       "    }\n",
       "\n",
       "    .dataframe thead th {\n",
       "        text-align: right;\n",
       "    }\n",
       "</style>\n",
       "<table border=\"1\" class=\"dataframe\">\n",
       "  <thead>\n",
       "    <tr style=\"text-align: right;\">\n",
       "      <th></th>\n",
       "      <th>Unnamed: 0</th>\n",
       "      <th>Row ID</th>\n",
       "      <th>Order Priority</th>\n",
       "      <th>Discount</th>\n",
       "      <th>Unit Price</th>\n",
       "      <th>Shipping Cost</th>\n",
       "      <th>Customer ID</th>\n",
       "      <th>Customer Name</th>\n",
       "      <th>Ship Mode</th>\n",
       "      <th>Customer Segment</th>\n",
       "      <th>...</th>\n",
       "      <th>Region</th>\n",
       "      <th>State or Province</th>\n",
       "      <th>City</th>\n",
       "      <th>Postal Code</th>\n",
       "      <th>Order Date</th>\n",
       "      <th>Ship Date</th>\n",
       "      <th>Profit</th>\n",
       "      <th>Quantity ordered new</th>\n",
       "      <th>Sales</th>\n",
       "      <th>Order ID</th>\n",
       "    </tr>\n",
       "  </thead>\n",
       "  <tbody>\n",
       "    <tr>\n",
       "      <th>0</th>\n",
       "      <td>0</td>\n",
       "      <td>18606</td>\n",
       "      <td>Not Specified</td>\n",
       "      <td>0.01</td>\n",
       "      <td>2.88</td>\n",
       "      <td>0.50</td>\n",
       "      <td>2</td>\n",
       "      <td>Janice Fletcher</td>\n",
       "      <td>Regular Air</td>\n",
       "      <td>Corporate</td>\n",
       "      <td>...</td>\n",
       "      <td>Central</td>\n",
       "      <td>Illinois</td>\n",
       "      <td>Addison</td>\n",
       "      <td>60101</td>\n",
       "      <td>2012-05-28</td>\n",
       "      <td>2012-05-30</td>\n",
       "      <td>1.3200</td>\n",
       "      <td>2</td>\n",
       "      <td>5.90</td>\n",
       "      <td>88525</td>\n",
       "    </tr>\n",
       "    <tr>\n",
       "      <th>1</th>\n",
       "      <td>1</td>\n",
       "      <td>20847</td>\n",
       "      <td>High</td>\n",
       "      <td>0.01</td>\n",
       "      <td>2.84</td>\n",
       "      <td>0.93</td>\n",
       "      <td>3</td>\n",
       "      <td>Bonnie Potter</td>\n",
       "      <td>Express Air</td>\n",
       "      <td>Corporate</td>\n",
       "      <td>...</td>\n",
       "      <td>West</td>\n",
       "      <td>Washington</td>\n",
       "      <td>Anacortes</td>\n",
       "      <td>98221</td>\n",
       "      <td>2010-07-07</td>\n",
       "      <td>2010-07-08</td>\n",
       "      <td>4.5600</td>\n",
       "      <td>4</td>\n",
       "      <td>13.01</td>\n",
       "      <td>88522</td>\n",
       "    </tr>\n",
       "    <tr>\n",
       "      <th>2</th>\n",
       "      <td>2</td>\n",
       "      <td>23086</td>\n",
       "      <td>Not Specified</td>\n",
       "      <td>0.03</td>\n",
       "      <td>6.68</td>\n",
       "      <td>6.15</td>\n",
       "      <td>3</td>\n",
       "      <td>Bonnie Potter</td>\n",
       "      <td>Express Air</td>\n",
       "      <td>Corporate</td>\n",
       "      <td>...</td>\n",
       "      <td>West</td>\n",
       "      <td>Washington</td>\n",
       "      <td>Anacortes</td>\n",
       "      <td>98221</td>\n",
       "      <td>2011-07-27</td>\n",
       "      <td>2011-07-28</td>\n",
       "      <td>-47.6400</td>\n",
       "      <td>7</td>\n",
       "      <td>49.92</td>\n",
       "      <td>88523</td>\n",
       "    </tr>\n",
       "    <tr>\n",
       "      <th>3</th>\n",
       "      <td>3</td>\n",
       "      <td>23087</td>\n",
       "      <td>Not Specified</td>\n",
       "      <td>0.01</td>\n",
       "      <td>5.68</td>\n",
       "      <td>3.60</td>\n",
       "      <td>3</td>\n",
       "      <td>Bonnie Potter</td>\n",
       "      <td>Regular Air</td>\n",
       "      <td>Corporate</td>\n",
       "      <td>...</td>\n",
       "      <td>West</td>\n",
       "      <td>Washington</td>\n",
       "      <td>Anacortes</td>\n",
       "      <td>98221</td>\n",
       "      <td>2011-07-27</td>\n",
       "      <td>2011-07-28</td>\n",
       "      <td>-30.5100</td>\n",
       "      <td>7</td>\n",
       "      <td>41.64</td>\n",
       "      <td>88523</td>\n",
       "    </tr>\n",
       "    <tr>\n",
       "      <th>4</th>\n",
       "      <td>4</td>\n",
       "      <td>23088</td>\n",
       "      <td>Not Specified</td>\n",
       "      <td>0.00</td>\n",
       "      <td>205.99</td>\n",
       "      <td>2.50</td>\n",
       "      <td>3</td>\n",
       "      <td>Bonnie Potter</td>\n",
       "      <td>Express Air</td>\n",
       "      <td>Corporate</td>\n",
       "      <td>...</td>\n",
       "      <td>West</td>\n",
       "      <td>Washington</td>\n",
       "      <td>Anacortes</td>\n",
       "      <td>98221</td>\n",
       "      <td>2011-07-27</td>\n",
       "      <td>2011-07-27</td>\n",
       "      <td>998.2023</td>\n",
       "      <td>8</td>\n",
       "      <td>1446.67</td>\n",
       "      <td>88523</td>\n",
       "    </tr>\n",
       "  </tbody>\n",
       "</table>\n",
       "<p>5 rows × 25 columns</p>\n",
       "</div>"
      ],
      "text/plain": [
       "   Unnamed: 0  Row ID Order Priority  Discount  Unit Price  Shipping Cost  \\\n",
       "0           0   18606  Not Specified      0.01        2.88           0.50   \n",
       "1           1   20847           High      0.01        2.84           0.93   \n",
       "2           2   23086  Not Specified      0.03        6.68           6.15   \n",
       "3           3   23087  Not Specified      0.01        5.68           3.60   \n",
       "4           4   23088  Not Specified      0.00      205.99           2.50   \n",
       "\n",
       "   Customer ID    Customer Name    Ship Mode Customer Segment  ...   Region  \\\n",
       "0            2  Janice Fletcher  Regular Air        Corporate  ...  Central   \n",
       "1            3    Bonnie Potter  Express Air        Corporate  ...     West   \n",
       "2            3    Bonnie Potter  Express Air        Corporate  ...     West   \n",
       "3            3    Bonnie Potter  Regular Air        Corporate  ...     West   \n",
       "4            3    Bonnie Potter  Express Air        Corporate  ...     West   \n",
       "\n",
       "  State or Province       City Postal Code  Order Date  Ship Date    Profit  \\\n",
       "0          Illinois    Addison       60101  2012-05-28 2012-05-30    1.3200   \n",
       "1        Washington  Anacortes       98221  2010-07-07 2010-07-08    4.5600   \n",
       "2        Washington  Anacortes       98221  2011-07-27 2011-07-28  -47.6400   \n",
       "3        Washington  Anacortes       98221  2011-07-27 2011-07-28  -30.5100   \n",
       "4        Washington  Anacortes       98221  2011-07-27 2011-07-27  998.2023   \n",
       "\n",
       "  Quantity ordered new    Sales Order ID  \n",
       "0                    2     5.90    88525  \n",
       "1                    4    13.01    88522  \n",
       "2                    7    49.92    88523  \n",
       "3                    7    41.64    88523  \n",
       "4                    8  1446.67    88523  \n",
       "\n",
       "[5 rows x 25 columns]"
      ]
     },
     "execution_count": 5,
     "metadata": {},
     "output_type": "execute_result"
    }
   ],
   "source": [
    "df.head()"
   ]
  },
  {
   "cell_type": "code",
   "execution_count": 6,
   "id": "945e67a6-b3d1-439b-8444-b629216dd54d",
   "metadata": {},
   "outputs": [
    {
     "data": {
      "text/html": [
       "<div>\n",
       "<style scoped>\n",
       "    .dataframe tbody tr th:only-of-type {\n",
       "        vertical-align: middle;\n",
       "    }\n",
       "\n",
       "    .dataframe tbody tr th {\n",
       "        vertical-align: top;\n",
       "    }\n",
       "\n",
       "    .dataframe thead th {\n",
       "        text-align: right;\n",
       "    }\n",
       "</style>\n",
       "<table border=\"1\" class=\"dataframe\">\n",
       "  <thead>\n",
       "    <tr style=\"text-align: right;\">\n",
       "      <th></th>\n",
       "      <th>Unnamed: 0</th>\n",
       "      <th>Row ID</th>\n",
       "      <th>Order Priority</th>\n",
       "      <th>Discount</th>\n",
       "      <th>Unit Price</th>\n",
       "      <th>Shipping Cost</th>\n",
       "      <th>Customer ID</th>\n",
       "      <th>Customer Name</th>\n",
       "      <th>Ship Mode</th>\n",
       "      <th>Customer Segment</th>\n",
       "      <th>...</th>\n",
       "      <th>Region</th>\n",
       "      <th>State or Province</th>\n",
       "      <th>City</th>\n",
       "      <th>Postal Code</th>\n",
       "      <th>Order Date</th>\n",
       "      <th>Ship Date</th>\n",
       "      <th>Profit</th>\n",
       "      <th>Quantity ordered new</th>\n",
       "      <th>Sales</th>\n",
       "      <th>Order ID</th>\n",
       "    </tr>\n",
       "  </thead>\n",
       "  <tbody>\n",
       "    <tr>\n",
       "      <th>9421</th>\n",
       "      <td>9421</td>\n",
       "      <td>20275</td>\n",
       "      <td>Critical</td>\n",
       "      <td>0.06</td>\n",
       "      <td>35.89</td>\n",
       "      <td>14.72</td>\n",
       "      <td>3402</td>\n",
       "      <td>Frederick Cole</td>\n",
       "      <td>Regular Air</td>\n",
       "      <td>Consumer</td>\n",
       "      <td>...</td>\n",
       "      <td>East</td>\n",
       "      <td>West Virginia</td>\n",
       "      <td>Charleston</td>\n",
       "      <td>25314</td>\n",
       "      <td>2013-05-14</td>\n",
       "      <td>2013-05-15</td>\n",
       "      <td>137.860000</td>\n",
       "      <td>13</td>\n",
       "      <td>447.87</td>\n",
       "      <td>87532</td>\n",
       "    </tr>\n",
       "    <tr>\n",
       "      <th>9422</th>\n",
       "      <td>9422</td>\n",
       "      <td>20276</td>\n",
       "      <td>Critical</td>\n",
       "      <td>0.00</td>\n",
       "      <td>3.34</td>\n",
       "      <td>7.49</td>\n",
       "      <td>3402</td>\n",
       "      <td>Frederick Cole</td>\n",
       "      <td>Regular Air</td>\n",
       "      <td>Consumer</td>\n",
       "      <td>...</td>\n",
       "      <td>East</td>\n",
       "      <td>West Virginia</td>\n",
       "      <td>Charleston</td>\n",
       "      <td>25314</td>\n",
       "      <td>2013-05-14</td>\n",
       "      <td>2013-05-14</td>\n",
       "      <td>-39.070000</td>\n",
       "      <td>3</td>\n",
       "      <td>13.23</td>\n",
       "      <td>87532</td>\n",
       "    </tr>\n",
       "    <tr>\n",
       "      <th>9423</th>\n",
       "      <td>9423</td>\n",
       "      <td>24491</td>\n",
       "      <td>Not Specified</td>\n",
       "      <td>0.08</td>\n",
       "      <td>550.98</td>\n",
       "      <td>45.70</td>\n",
       "      <td>3402</td>\n",
       "      <td>Frederick Cole</td>\n",
       "      <td>Delivery Truck</td>\n",
       "      <td>Consumer</td>\n",
       "      <td>...</td>\n",
       "      <td>East</td>\n",
       "      <td>West Virginia</td>\n",
       "      <td>Charleston</td>\n",
       "      <td>25314</td>\n",
       "      <td>2013-09-12</td>\n",
       "      <td>2013-09-14</td>\n",
       "      <td>-1225.029097</td>\n",
       "      <td>4</td>\n",
       "      <td>2215.93</td>\n",
       "      <td>87533</td>\n",
       "    </tr>\n",
       "    <tr>\n",
       "      <th>9424</th>\n",
       "      <td>9424</td>\n",
       "      <td>25914</td>\n",
       "      <td>High</td>\n",
       "      <td>0.10</td>\n",
       "      <td>105.98</td>\n",
       "      <td>13.99</td>\n",
       "      <td>3403</td>\n",
       "      <td>Tammy Buckley</td>\n",
       "      <td>Express Air</td>\n",
       "      <td>Consumer</td>\n",
       "      <td>...</td>\n",
       "      <td>West</td>\n",
       "      <td>Wyoming</td>\n",
       "      <td>Cheyenne</td>\n",
       "      <td>82001</td>\n",
       "      <td>2010-02-08</td>\n",
       "      <td>2010-02-11</td>\n",
       "      <td>349.485000</td>\n",
       "      <td>5</td>\n",
       "      <td>506.50</td>\n",
       "      <td>87530</td>\n",
       "    </tr>\n",
       "    <tr>\n",
       "      <th>9425</th>\n",
       "      <td>9425</td>\n",
       "      <td>24492</td>\n",
       "      <td>Not Specified</td>\n",
       "      <td>0.09</td>\n",
       "      <td>7.78</td>\n",
       "      <td>2.50</td>\n",
       "      <td>3403</td>\n",
       "      <td>Tammy Buckley</td>\n",
       "      <td>Express Air</td>\n",
       "      <td>Consumer</td>\n",
       "      <td>...</td>\n",
       "      <td>West</td>\n",
       "      <td>Wyoming</td>\n",
       "      <td>Cheyenne</td>\n",
       "      <td>82001</td>\n",
       "      <td>2013-09-12</td>\n",
       "      <td>2013-09-14</td>\n",
       "      <td>78.062400</td>\n",
       "      <td>23</td>\n",
       "      <td>172.48</td>\n",
       "      <td>87533</td>\n",
       "    </tr>\n",
       "  </tbody>\n",
       "</table>\n",
       "<p>5 rows × 25 columns</p>\n",
       "</div>"
      ],
      "text/plain": [
       "      Unnamed: 0  Row ID Order Priority  Discount  Unit Price  Shipping Cost  \\\n",
       "9421        9421   20275       Critical      0.06       35.89          14.72   \n",
       "9422        9422   20276       Critical      0.00        3.34           7.49   \n",
       "9423        9423   24491  Not Specified      0.08      550.98          45.70   \n",
       "9424        9424   25914           High      0.10      105.98          13.99   \n",
       "9425        9425   24492  Not Specified      0.09        7.78           2.50   \n",
       "\n",
       "      Customer ID   Customer Name       Ship Mode Customer Segment  ...  \\\n",
       "9421         3402  Frederick Cole     Regular Air         Consumer  ...   \n",
       "9422         3402  Frederick Cole     Regular Air         Consumer  ...   \n",
       "9423         3402  Frederick Cole  Delivery Truck         Consumer  ...   \n",
       "9424         3403   Tammy Buckley     Express Air         Consumer  ...   \n",
       "9425         3403   Tammy Buckley     Express Air         Consumer  ...   \n",
       "\n",
       "     Region State or Province        City Postal Code  Order Date  Ship Date  \\\n",
       "9421   East     West Virginia  Charleston       25314  2013-05-14 2013-05-15   \n",
       "9422   East     West Virginia  Charleston       25314  2013-05-14 2013-05-14   \n",
       "9423   East     West Virginia  Charleston       25314  2013-09-12 2013-09-14   \n",
       "9424   West           Wyoming    Cheyenne       82001  2010-02-08 2010-02-11   \n",
       "9425   West           Wyoming    Cheyenne       82001  2013-09-12 2013-09-14   \n",
       "\n",
       "           Profit Quantity ordered new    Sales Order ID  \n",
       "9421   137.860000                   13   447.87    87532  \n",
       "9422   -39.070000                    3    13.23    87532  \n",
       "9423 -1225.029097                    4  2215.93    87533  \n",
       "9424   349.485000                    5   506.50    87530  \n",
       "9425    78.062400                   23   172.48    87533  \n",
       "\n",
       "[5 rows x 25 columns]"
      ]
     },
     "execution_count": 6,
     "metadata": {},
     "output_type": "execute_result"
    }
   ],
   "source": [
    "df.tail()"
   ]
  },
  {
   "cell_type": "code",
   "execution_count": 7,
   "id": "a579ce1b-a2b5-4d6a-90fb-6f7504bc80bd",
   "metadata": {},
   "outputs": [
    {
     "data": {
      "text/plain": [
       "(9426, 25)"
      ]
     },
     "execution_count": 7,
     "metadata": {},
     "output_type": "execute_result"
    }
   ],
   "source": [
    "df.shape\n"
   ]
  },
  {
   "cell_type": "code",
   "execution_count": 11,
   "id": "2e30cf40-424a-4144-a7d7-c336296be091",
   "metadata": {},
   "outputs": [
    {
     "data": {
      "text/plain": [
       "Unnamed: 0              0\n",
       "Row ID                  0\n",
       "Order Priority          0\n",
       "Discount                0\n",
       "Unit Price              0\n",
       "Shipping Cost           0\n",
       "Customer ID             0\n",
       "Customer Name           0\n",
       "Ship Mode               0\n",
       "Customer Segment        0\n",
       "Product Category        0\n",
       "Product Sub-Category    0\n",
       "Product Container       0\n",
       "Product Name            0\n",
       "Product Base Margin     0\n",
       "Region                  0\n",
       "State or Province       0\n",
       "City                    0\n",
       "Postal Code             0\n",
       "Order Date              0\n",
       "Ship Date               0\n",
       "Profit                  0\n",
       "Quantity ordered new    0\n",
       "Sales                   0\n",
       "Order ID                0\n",
       "dtype: int64"
      ]
     },
     "execution_count": 11,
     "metadata": {},
     "output_type": "execute_result"
    }
   ],
   "source": [
    "df.isnull().sum()"
   ]
  },
  {
   "cell_type": "code",
   "execution_count": 12,
   "id": "f1e5aa0b-f5be-46ee-98eb-15739b60a2ce",
   "metadata": {},
   "outputs": [
    {
     "data": {
      "text/plain": [
       "0"
      ]
     },
     "execution_count": 12,
     "metadata": {},
     "output_type": "execute_result"
    }
   ],
   "source": [
    "df.isnull().sum().sum()"
   ]
  },
  {
   "cell_type": "code",
   "execution_count": 17,
   "id": "8e3a3fb8-5706-4e6c-abd9-cee1d50adbbd",
   "metadata": {},
   "outputs": [
    {
     "data": {
      "text/plain": [
       "Order Priority\n",
       "High             1970\n",
       "Low              1926\n",
       "Not Specified    1881\n",
       "Medium           1844\n",
       "Critical         1805\n",
       "Name: count, dtype: int64"
      ]
     },
     "execution_count": 17,
     "metadata": {},
     "output_type": "execute_result"
    }
   ],
   "source": [
    "df[\"Order Priority\"].value_counts()"
   ]
  },
  {
   "cell_type": "code",
   "execution_count": 26,
   "id": "ee4d97f7-8bfc-49bb-8fd3-4efd2aa37045",
   "metadata": {},
   "outputs": [],
   "source": [
    "df[\"Product Base Margin\"].fillna(value = df[\"Product Base Margin\"].mean(), inplace= True)"
   ]
  },
  {
   "cell_type": "markdown",
   "id": "0607e24d-d5c7-4fdf-886f-d4bb42aaa4a9",
   "metadata": {},
   "source": [
    "## Order Priority"
   ]
  },
  {
   "cell_type": "code",
   "execution_count": 14,
   "id": "df0dc863-401e-4508-aaf3-50edf9b97487",
   "metadata": {},
   "outputs": [
    {
     "data": {
      "text/plain": [
       "array(['Not Specified', 'High', 'Medium', 'Low', 'Critical', 'Critical '],\n",
       "      dtype=object)"
      ]
     },
     "execution_count": 14,
     "metadata": {},
     "output_type": "execute_result"
    }
   ],
   "source": [
    "df[\"Order Priority\"].unique()"
   ]
  },
  {
   "cell_type": "code",
   "execution_count": 15,
   "id": "7abc563c-284d-45c7-b0e8-f9ee68f4ddfe",
   "metadata": {},
   "outputs": [
    {
     "data": {
      "text/plain": [
       "0       Not Specified\n",
       "1                High\n",
       "2       Not Specified\n",
       "3       Not Specified\n",
       "4       Not Specified\n",
       "            ...      \n",
       "9421         Critical\n",
       "9422         Critical\n",
       "9423    Not Specified\n",
       "9424             High\n",
       "9425    Not Specified\n",
       "Name: Order Priority, Length: 9426, dtype: object"
      ]
     },
     "execution_count": 15,
     "metadata": {},
     "output_type": "execute_result"
    }
   ],
   "source": [
    "df[\"Order Priority\"].replace('Critical ','Critical')"
   ]
  },
  {
   "cell_type": "code",
   "execution_count": 16,
   "id": "8ea6e40a-76ad-4b1c-824d-79eb8f50dcfb",
   "metadata": {},
   "outputs": [],
   "source": [
    "df[\"Order Priority\"]= df[\"Order Priority\"].replace('Critical ','Critical')"
   ]
  },
  {
   "cell_type": "code",
   "execution_count": 27,
   "id": "85de812c-2c38-406b-9ef3-807705f9db6f",
   "metadata": {},
   "outputs": [
    {
     "data": {
      "image/png": "[encoded data removed]",
      "text/plain": [
       "<Figure size 500x400 with 1 Axes>"
      ]
     },
     "metadata": {},
     "output_type": "display_data"
    }
   ],
   "source": [
    "plt.figure(figsize= (5,4))\n",
    "sns.countplot(x = df[\"Order Priority\"])\n",
    "plt.title(\"Count of Order Priority\")\n",
    "plt.savefig(\"Count of Order Priority\")\n",
    "plt.show()"
   ]
  },
  {
   "cell_type": "markdown",
   "id": "a9ac153a-f127-4af4-b888-38d6bb7272f1",
   "metadata": {},
   "source": [
    "## Ship Mode\n"
   ]
  },
  {
   "cell_type": "code",
   "execution_count": 28,
   "id": "41a545a4-836f-495f-9c2d-808b4d74baf3",
   "metadata": {},
   "outputs": [
    {
     "data": {
      "text/plain": [
       "Ship Mode\n",
       "Regular Air       7036\n",
       "Delivery Truck    1283\n",
       "Express Air       1107\n",
       "Name: count, dtype: int64"
      ]
     },
     "execution_count": 28,
     "metadata": {},
     "output_type": "execute_result"
    }
   ],
   "source": [
    "df[\"Ship Mode\"].value_counts()"
   ]
  },
  {
   "cell_type": "code",
   "execution_count": 31,
   "id": "9d6f0f26-8706-43fd-814c-5c5f1f679466",
   "metadata": {},
   "outputs": [
    {
     "data": {
      "text/plain": [
       "Index(['Regular Air', 'Delivery Truck', 'Express Air'], dtype='object', name='Ship Mode')"
      ]
     },
     "execution_count": 31,
     "metadata": {},
     "output_type": "execute_result"
    }
   ],
   "source": [
    "df[\"Ship Mode\"].value_counts().index"
   ]
  },
  {
   "cell_type": "code",
   "execution_count": 32,
   "id": "5e56c69d-2d6c-4942-99df-16476b2670c3",
   "metadata": {},
   "outputs": [],
   "source": [
    "x = df[\"Ship Mode\"].value_counts().index"
   ]
  },
  {
   "cell_type": "code",
   "execution_count": 33,
   "id": "5da44ec9-df61-4a98-a719-63f33fcf7357",
   "metadata": {},
   "outputs": [
    {
     "data": {
      "text/plain": [
       "array([7036, 1283, 1107], dtype=int64)"
      ]
     },
     "execution_count": 33,
     "metadata": {},
     "output_type": "execute_result"
    }
   ],
   "source": [
    "df[\"Ship Mode\"].value_counts().values"
   ]
  },
  {
   "cell_type": "code",
   "execution_count": 34,
   "id": "72c66a83-d9e2-45fa-9a48-376a7a0de475",
   "metadata": {},
   "outputs": [],
   "source": [
    "y = df[\"Ship Mode\"].value_counts().values"
   ]
  },
  {
   "cell_type": "code",
   "execution_count": 46,
   "id": "00c4f39d-60ee-4197-846b-7406d37b1c36",
   "metadata": {},
   "outputs": [
    {
     "data": {
      "image/png": "[encoded data removed]",
      "text/plain": [
       "<Figure size 500x400 with 1 Axes>"
      ]
     },
     "metadata": {},
     "output_type": "display_data"
    }
   ],
   "source": [
    "plt.figure(figsize = (5,4))\n",
    "plt.pie(y, labels = x, autopct= \"%0.2f%%\")\n",
    "plt.legend(loc =1)\n",
    "plt.show()"
   ]
  },
  {
   "cell_type": "code",
   "execution_count": 49,
   "id": "84d61735-5412-4ecb-9385-ea15892064ff",
   "metadata": {},
   "outputs": [
    {
     "data": {
      "image/png": "[encoded data removed]",
      "text/plain": [
       "<Figure size 500x400 with 1 Axes>"
      ]
     },
     "metadata": {},
     "output_type": "display_data"
    }
   ],
   "source": [
    "plt.figure(figsize = (5,4))\n",
    "sns.countplot(x = df[\"Ship Mode\"] , hue = df [\"Product Category\"])\n",
    "plt.show()"
   ]
  },
  {
   "cell_type": "markdown",
   "id": "6a180afa-1ea4-40b0-8c5e-8bdcb7216437",
   "metadata": {},
   "source": [
    "## Customer Segment"
   ]
  },
  {
   "cell_type": "code",
   "execution_count": 50,
   "id": "f4770ff9-f864-4b7a-a1fd-78ee7a07c9b7",
   "metadata": {},
   "outputs": [
    {
     "data": {
      "text/plain": [
       "Customer Segment\n",
       "Corporate         3375\n",
       "Home Office       2316\n",
       "Consumer          1894\n",
       "Small Business    1841\n",
       "Name: count, dtype: int64"
      ]
     },
     "execution_count": 50,
     "metadata": {},
     "output_type": "execute_result"
    }
   ],
   "source": [
    "df[\"Customer Segment\"].value_counts()"
   ]
  },
  {
   "cell_type": "code",
   "execution_count": 56,
   "id": "3b0fc9e2-f29f-43e6-bc71-34fab1942efd",
   "metadata": {},
   "outputs": [
    {
     "data": {
      "image/png": "[encoded data removed]",
      "text/plain": [
       "<Figure size 600x400 with 1 Axes>"
      ]
     },
     "metadata": {},
     "output_type": "display_data"
    }
   ],
   "source": [
    "plt.figure(figsize = (6,4))\n",
    "sns.countplot(x = df[\"Customer Segment\"])\n",
    "plt.show()"
   ]
  },
  {
   "cell_type": "markdown",
   "id": "f4866bf8-a261-480b-8387-40eb7e1b2deb",
   "metadata": {},
   "source": [
    "##  Product Category"
   ]
  },
  {
   "cell_type": "code",
   "execution_count": 57,
   "id": "cb4e42d2-0602-402e-8c10-b0904f002c77",
   "metadata": {},
   "outputs": [
    {
     "data": {
      "text/plain": [
       "Product Category\n",
       "Office Supplies    5181\n",
       "Technology         2312\n",
       "Furniture          1933\n",
       "Name: count, dtype: int64"
      ]
     },
     "execution_count": 57,
     "metadata": {},
     "output_type": "execute_result"
    }
   ],
   "source": [
    "df[\"Product Category\"].value_counts()"
   ]
  },
  {
   "cell_type": "code",
   "execution_count": 138,
   "id": "b700cb58-9590-4fda-9140-639b353681ea",
   "metadata": {},
   "outputs": [
    {
     "data": {
      "image/png": "[encoded data removed]",
      "text/plain": [
       "<Figure size 400x300 with 1 Axes>"
      ]
     },
     "metadata": {},
     "output_type": "display_data"
    }
   ],
   "source": [
    "plt.figure(figsize = (4,3))\n",
    "sns.countplot(x = df[\"Product Category\"])\n",
    "plt.title(\"Count of Product Categories\")\n",
    "plt.show()"
   ]
  },
  {
   "cell_type": "code",
   "execution_count": 137,
   "id": "7fabbd20-c691-40b8-a6aa-daae8e03c4f9",
   "metadata": {},
   "outputs": [
    {
     "data": {
      "image/png": "[encoded data removed]",
      "text/plain": [
       "<Figure size 1100x600 with 1 Axes>"
      ]
     },
     "metadata": {},
     "output_type": "display_data"
    }
   ],
   "source": [
    "plt.figure(figsize = (11,6))\n",
    "sns.countplot(x =\"Product Category\", data = df[ df[\"Product Category\"]== \"Office Supplies\"], hue = \"Product Sub-Category\")\n",
    "plt.title(\"Count of Office Supplies by its Sub-Categories\")\n",
    "plt.legend(loc=9)\n",
    "plt.show()"
   ]
  },
  {
   "cell_type": "markdown",
   "id": "d5e271b3-acb0-49de-81ab-767102e44bc9",
   "metadata": {},
   "source": [
    "## Order Year"
   ]
  },
  {
   "cell_type": "code",
   "execution_count": 72,
   "id": "0e2a93db-b8e9-4001-b2e4-172395b70270",
   "metadata": {},
   "outputs": [
    {
     "name": "stdout",
     "output_type": "stream",
     "text": [
      "<class 'pandas.core.frame.DataFrame'>\n",
      "RangeIndex: 9426 entries, 0 to 9425\n",
      "Data columns (total 26 columns):\n",
      " #   Column                Non-Null Count  Dtype         \n",
      "---  ------                --------------  -----         \n",
      " 0   Unnamed: 0            9426 non-null   int64         \n",
      " 1   Row ID                9426 non-null   int64         \n",
      " 2   Order Priority        9426 non-null   object        \n",
      " 3   Discount              9426 non-null   float64       \n",
      " 4   Unit Price            9426 non-null   float64       \n",
      " 5   Shipping Cost         9426 non-null   float64       \n",
      " 6   Customer ID           9426 non-null   int64         \n",
      " 7   Customer Name         9426 non-null   object        \n",
      " 8   Ship Mode             9426 non-null   object        \n",
      " 9   Customer Segment      9426 non-null   object        \n",
      " 10  Product Category      9426 non-null   object        \n",
      " 11  Product Sub-Category  9426 non-null   object        \n",
      " 12  Product Container     9426 non-null   object        \n",
      " 13  Product Name          9426 non-null   object        \n",
      " 14  Product Base Margin   9426 non-null   float64       \n",
      " 15  Region                9426 non-null   object        \n",
      " 16  State or Province     9426 non-null   object        \n",
      " 17  City                  9426 non-null   object        \n",
      " 18  Postal Code           9426 non-null   int64         \n",
      " 19  Order Date            9426 non-null   datetime64[ns]\n",
      " 20  Ship Date             9426 non-null   datetime64[ns]\n",
      " 21  Profit                9426 non-null   float64       \n",
      " 22  Quantity ordered new  9426 non-null   int64         \n",
      " 23  Sales                 9426 non-null   float64       \n",
      " 24  Order ID              9426 non-null   int64         \n",
      " 25  Order Year            9426 non-null   int32         \n",
      "dtypes: datetime64[ns](2), float64(6), int32(1), int64(6), object(11)\n",
      "memory usage: 1.8+ MB\n"
     ]
    }
   ],
   "source": [
    "df.info()"
   ]
  },
  {
   "cell_type": "code",
   "execution_count": 6,
   "id": "9d28eee9-fa88-4616-93ff-bce0c3638d49",
   "metadata": {},
   "outputs": [
    {
     "data": {
      "text/plain": [
       "0       2012\n",
       "1       2010\n",
       "2       2011\n",
       "3       2011\n",
       "4       2011\n",
       "        ... \n",
       "9421    2013\n",
       "9422    2013\n",
       "9423    2013\n",
       "9424    2010\n",
       "9425    2013\n",
       "Name: Order Date, Length: 9426, dtype: int32"
      ]
     },
     "execution_count": 6,
     "metadata": {},
     "output_type": "execute_result"
    }
   ],
   "source": [
    "df[\"Order Date\"].dt.year"
   ]
  },
  {
   "cell_type": "code",
   "execution_count": 7,
   "id": "0ec9de53-e0e9-4d8c-96c3-a569375a9bdc",
   "metadata": {},
   "outputs": [],
   "source": [
    "df[\"Order Year\"]=df[\"Order Date\"].dt.year"
   ]
  },
  {
   "cell_type": "code",
   "execution_count": 74,
   "id": "dc9dbdd6-2845-4f7e-83a5-90ddf0b5362f",
   "metadata": {},
   "outputs": [
    {
     "data": {
      "text/plain": [
       "Order Year\n",
       "2013    3054\n",
       "2012    2241\n",
       "2011    2179\n",
       "2010    1952\n",
       "Name: count, dtype: int64"
      ]
     },
     "execution_count": 74,
     "metadata": {},
     "output_type": "execute_result"
    }
   ],
   "source": [
    "df[\"Order Year\"].value_counts()"
   ]
  },
  {
   "cell_type": "code",
   "execution_count": 125,
   "id": "9439ae1d-e990-4e53-8ae2-71cffdeac16c",
   "metadata": {},
   "outputs": [
    {
     "data": {
      "image/png": "[encoded data removed]",
      "text/plain": [
       "<Figure size 500x300 with 1 Axes>"
      ]
     },
     "metadata": {},
     "output_type": "display_data"
    }
   ],
   "source": [
    "plt.figure(figsize = (5,3))\n",
    "sns.countplot(x =df[\"Order Year\"])\n",
    "plt.title(\"Count of Sales by Year \")\n",
    "plt.show()"
   ]
  },
  {
   "cell_type": "markdown",
   "id": "0f60312c-c074-4950-9b73-b51342cae77e",
   "metadata": {},
   "source": [
    "## Profit"
   ]
  },
  {
   "cell_type": "code",
   "execution_count": 124,
   "id": "9fbd2aba-fb29-4d14-82b2-1399a1297128",
   "metadata": {},
   "outputs": [
    {
     "data": {
      "image/png": "[encoded data removed]",
      "text/plain": [
       "<Figure size 500x400 with 1 Axes>"
      ]
     },
     "metadata": {},
     "output_type": "display_data"
    }
   ],
   "source": [
    "plt.figure(figsize = (5,4))\n",
    "sns.barplot(x = df[\"Product Category\"], y= df[\"Profit\"], estimator='sum')\n",
    "plt.title(\"Profit Analysis\")\n",
    "plt.show()"
   ]
  },
  {
   "cell_type": "markdown",
   "id": "f741a304-1a97-4be3-baa3-01ae01e1bcdc",
   "metadata": {},
   "source": [
    "## Sales by State or Province"
   ]
  },
  {
   "cell_type": "code",
   "execution_count": 95,
   "id": "44684734-d2db-429a-847f-bab8b0b88369",
   "metadata": {},
   "outputs": [
    {
     "data": {
      "text/plain": [
       "State or Province\n",
       "California              1021\n",
       "Texas                    646\n",
       "Illinois                 584\n",
       "New York                 574\n",
       "Florida                  522\n",
       "Ohio                     396\n",
       "Washington               327\n",
       "Michigan                 327\n",
       "Pennsylvania             271\n",
       "North Carolina           251\n",
       "Indiana                  241\n",
       "Minnesota                239\n",
       "Massachusetts            222\n",
       "Georgia                  214\n",
       "Virginia                 198\n",
       "Maryland                 178\n",
       "Colorado                 177\n",
       "New Jersey               177\n",
       "Wisconsin                169\n",
       "Oregon                   168\n",
       "Tennessee                166\n",
       "Missouri                 161\n",
       "Iowa                     156\n",
       "Utah                     146\n",
       "Arizona                  134\n",
       "Kansas                   133\n",
       "Maine                    128\n",
       "Alabama                  125\n",
       "Arkansas                 123\n",
       "Idaho                    114\n",
       "South Carolina           105\n",
       "Oklahoma                 104\n",
       "Louisiana                 89\n",
       "New Mexico                84\n",
       "Kentucky                  83\n",
       "Connecticut               82\n",
       "Mississippi               78\n",
       "Nebraska                  77\n",
       "District of Columbia      68\n",
       "Vermont                   61\n",
       "New Hampshire             54\n",
       "Montana                   49\n",
       "West Virginia             43\n",
       "Nevada                    43\n",
       "North Dakota              34\n",
       "South Dakota              28\n",
       "Wyoming                   21\n",
       "Rhode Island              20\n",
       "Delaware                  15\n",
       "Name: count, dtype: int64"
      ]
     },
     "execution_count": 95,
     "metadata": {},
     "output_type": "execute_result"
    }
   ],
   "source": [
    "df[\"State or Province\"].value_counts()"
   ]
  },
  {
   "cell_type": "code",
   "execution_count": 98,
   "id": "8716fce3-bc34-4085-8cb9-8d3e75dff898",
   "metadata": {},
   "outputs": [
    {
     "data": {
      "text/plain": [
       "State or Province\n",
       "California    1021\n",
       "Texas          646\n",
       "Illinois       584\n",
       "New York       574\n",
       "Florida        522\n",
       "Name: count, dtype: int64"
      ]
     },
     "execution_count": 98,
     "metadata": {},
     "output_type": "execute_result"
    }
   ],
   "source": [
    "df[\"State or Province\"].value_counts().head()"
   ]
  },
  {
   "cell_type": "code",
   "execution_count": 103,
   "id": "80717a7d-f0fe-49da-b5a5-62003306fd92",
   "metadata": {},
   "outputs": [
    {
     "data": {
      "text/plain": [
       "Index(['California', 'Texas', 'Illinois', 'New York', 'Florida'], dtype='object', name='State or Province')"
      ]
     },
     "execution_count": 103,
     "metadata": {},
     "output_type": "execute_result"
    }
   ],
   "source": [
    "df[\"State or Province\"].value_counts().head().index"
   ]
  },
  {
   "cell_type": "code",
   "execution_count": 104,
   "id": "82561ec8-495f-4157-96c4-6c67440000fa",
   "metadata": {},
   "outputs": [],
   "source": [
    "x= df[\"State or Province\"].value_counts().head().index"
   ]
  },
  {
   "cell_type": "code",
   "execution_count": 105,
   "id": "d629df06-4a9e-4974-a463-3417cdb97eb3",
   "metadata": {},
   "outputs": [
    {
     "data": {
      "text/plain": [
       "array([1021,  646,  584,  574,  522], dtype=int64)"
      ]
     },
     "execution_count": 105,
     "metadata": {},
     "output_type": "execute_result"
    }
   ],
   "source": [
    "df[\"State or Province\"].value_counts().head().values"
   ]
  },
  {
   "cell_type": "code",
   "execution_count": 107,
   "id": "aa9e92a9-5c57-4c0f-8b71-ef9ec82998a9",
   "metadata": {},
   "outputs": [],
   "source": [
    "y=df[\"State or Province\"].value_counts().head().values"
   ]
  },
  {
   "cell_type": "code",
   "execution_count": 118,
   "id": "3d7b31b7-5dcc-447b-a392-113ba5a8a220",
   "metadata": {},
   "outputs": [
    {
     "data": {
      "image/png": "[encoded data removed]",
      "text/plain": [
       "<Figure size 600x500 with 1 Axes>"
      ]
     },
     "metadata": {},
     "output_type": "display_data"
    }
   ],
   "source": [
    "plt.figure(figsize=(6,5))\n",
    "plt.pie(y, labels = x, autopct= \"%0.2f%%\")\n",
    "plt.legend(loc= 3)\n",
    "plt.title(\"Sales by Top 5 State or Province\")\n",
    "plt.show()"
   ]
  },
  {
   "cell_type": "code",
   "execution_count": 4,
   "id": "92077e28-5b1d-4424-a145-4ce00115729f",
   "metadata": {},
   "outputs": [
    {
     "data": {
      "image/png": "[encoded data removed]",
      "text/plain": [
       "<Figure size 500x400 with 1 Axes>"
      ]
     },
     "metadata": {},
     "output_type": "display_data"
    }
   ],
   "source": [
    "plt.figure(figsize = (5,4))\n",
    "sns.barplot(x = df[\"Product Category\"], y= df[\"Product Base Margin\"], estimator='sum')\n",
    "plt.title(\"Product Base Margin of Product Categories\")\n",
    "plt.show()"
   ]
  },
  {
   "cell_type": "code",
   "execution_count": null,
   "id": "b1d7fd30-f4e5-4c7c-861b-88637f06178d",
   "metadata": {},
   "outputs": [],
   "source": []
  },
  {
   "cell_type": "code",
   "execution_count": null,
   "id": "fbee0865-f260-4352-b0cf-e8e2c1a0c708",
   "metadata": {},
   "outputs": [],
   "source": []
  }
 ],
 "metadata": {
  "kernelspec": {
   "display_name": "Python 3 (ipykernel)",
   "language": "python",
   "name": "python3"
  },
  "language_info": {
   "codemirror_mode": {
    "name": "ipython",
    "version": 3
   },
   "file_extension": ".py",
   "mimetype": "text/x-python",
   "name": "python",
   "nbconvert_exporter": "python",
   "pygments_lexer": "ipython3",
   "version": "3.11.7"
  },
  "widgets": {
   "application/vnd.jupyter.widget-state+json": {
    "state": {},
    "version_major": 2,
    "version_minor": 0
   }
  }
 },
 "nbformat": 4,
 "nbformat_minor": 5
}
